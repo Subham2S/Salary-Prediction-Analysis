{
 "cells": [
  {
   "cell_type": "raw",
   "id": "0df2a71e",
   "metadata": {},
   "source": [
    "'''\n",
    "This Notebook file is for creating a Linear regression model \n",
    "for predicting Salaries based on Years of Experience.\n",
    "'''"
   ]
  },
  {
   "cell_type": "markdown",
   "id": "d886fe96",
   "metadata": {},
   "source": [
    "## Importing the packages"
   ]
  },
  {
   "cell_type": "code",
   "execution_count": 1,
   "id": "57f1aa82",
   "metadata": {
    "ExecuteTime": {
     "end_time": "2022-08-25T15:06:18.089950Z",
     "start_time": "2022-08-25T15:06:16.915304Z"
    }
   },
   "outputs": [],
   "source": [
    "import warnings\n",
    "import numpy as np\n",
    "import pandas as pd\n",
    "import matplotlib.pyplot as plt\n",
    "import seaborn as sns\n",
    "%matplotlib inline\n",
    "sns.set(style='ticks', font_scale=1.25)\n",
    "\n",
    "warnings.filterwarnings('ignore')"
   ]
  },
  {
   "cell_type": "code",
   "execution_count": 2,
   "id": "03a842f9",
   "metadata": {
    "ExecuteTime": {
     "end_time": "2022-08-25T15:06:18.197524Z",
     "start_time": "2022-08-25T15:06:18.090473Z"
    }
   },
   "outputs": [],
   "source": [
    "from sklearn.model_selection import train_test_split\n",
    "from sklearn.metrics import r2_score, mean_squared_error, mean_absolute_error, mean_absolute_percentage_error\n",
    "from sklearn.linear_model import LinearRegression\n",
    "import pickle"
   ]
  },
  {
   "cell_type": "markdown",
   "id": "e9fd8a10",
   "metadata": {},
   "source": [
    "## UDF"
   ]
  },
  {
   "cell_type": "code",
   "execution_count": 3,
   "id": "1c73abc2",
   "metadata": {
    "ExecuteTime": {
     "end_time": "2022-08-25T15:06:18.212851Z",
     "start_time": "2022-08-25T15:06:18.198711Z"
    }
   },
   "outputs": [],
   "source": [
    "def conti_var_summary(x):\n",
    "    '''\n",
    "    UDF for getting customised summary for continuous variables\n",
    "    '''\n",
    "    # freq and missings\n",
    "    n_total = x.shape[0]\n",
    "    n_miss = x.isna().sum()\n",
    "    perc_miss = n_miss * 100 / n_total\n",
    "\n",
    "    # outliers - iqr\n",
    "    q1 = x.quantile(0.25)\n",
    "    q3 = x.quantile(0.75)\n",
    "    iqr = q3 - q1\n",
    "    lc_iqr = q1 - 1.5 * iqr\n",
    "    uc_iqr = q3 + 1.5 * iqr\n",
    "\n",
    "    return pd.Series([\n",
    "        x.dtype,\n",
    "        x.nunique(), n_total,\n",
    "        x.count(), n_miss, perc_miss,\n",
    "        x.sum(),\n",
    "        x.mean(),\n",
    "        x.std(),\n",
    "        x.var(), lc_iqr, uc_iqr,\n",
    "        x.min(),\n",
    "        x.quantile(0.01),\n",
    "        x.quantile(0.05),\n",
    "        x.quantile(0.10),\n",
    "        x.quantile(0.25),\n",
    "        x.quantile(0.5),\n",
    "        x.quantile(0.75),\n",
    "        x.quantile(0.90),\n",
    "        x.quantile(0.95),\n",
    "        x.quantile(0.99),\n",
    "        x.max()\n",
    "    ],\n",
    "        index=[\n",
    "        'dtype', 'cardinality', 'n_tot', 'n', 'nmiss',\n",
    "        'perc_miss', 'sum', 'mean', 'std', 'var', 'lc_iqr',\n",
    "        'uc_iqr', 'min', 'p1', 'p5', 'p10', 'p25', 'p50',\n",
    "                         'p75', 'p90', 'p95', 'p99', 'max'\n",
    "    ])"
   ]
  },
  {
   "cell_type": "markdown",
   "id": "4993df12",
   "metadata": {},
   "source": [
    "## Importing Data"
   ]
  },
  {
   "cell_type": "code",
   "execution_count": 4,
   "id": "bb743bed",
   "metadata": {
    "ExecuteTime": {
     "end_time": "2022-08-25T15:06:18.462471Z",
     "start_time": "2022-08-25T15:06:18.214179Z"
    }
   },
   "outputs": [],
   "source": [
    "df_salary = pd.read_excel('./Salary.xlsx')"
   ]
  },
  {
   "cell_type": "code",
   "execution_count": 5,
   "id": "3c6ef1fc",
   "metadata": {
    "ExecuteTime": {
     "end_time": "2022-08-25T15:06:18.478529Z",
     "start_time": "2022-08-25T15:06:18.463584Z"
    }
   },
   "outputs": [
    {
     "name": "stdout",
     "output_type": "stream",
     "text": [
      "<class 'pandas.core.frame.DataFrame'>\n",
      "RangeIndex: 86 entries, 0 to 85\n",
      "Data columns (total 2 columns):\n",
      " #   Column           Non-Null Count  Dtype  \n",
      "---  ------           --------------  -----  \n",
      " 0   YearsExperience  86 non-null     float64\n",
      " 1   Salary           86 non-null     int64  \n",
      "dtypes: float64(1), int64(1)\n",
      "memory usage: 1.5 KB\n"
     ]
    }
   ],
   "source": [
    "df_salary.info()"
   ]
  },
  {
   "cell_type": "code",
   "execution_count": 6,
   "id": "9d703de8",
   "metadata": {
    "ExecuteTime": {
     "end_time": "2022-08-25T15:06:18.494125Z",
     "start_time": "2022-08-25T15:06:18.480026Z"
    }
   },
   "outputs": [
    {
     "data": {
      "text/html": [
       "<div>\n",
       "<style scoped>\n",
       "    .dataframe tbody tr th:only-of-type {\n",
       "        vertical-align: middle;\n",
       "    }\n",
       "\n",
       "    .dataframe tbody tr th {\n",
       "        vertical-align: top;\n",
       "    }\n",
       "\n",
       "    .dataframe thead th {\n",
       "        text-align: right;\n",
       "    }\n",
       "</style>\n",
       "<table border=\"1\" class=\"dataframe\">\n",
       "  <thead>\n",
       "    <tr style=\"text-align: right;\">\n",
       "      <th></th>\n",
       "      <th>YearsExperience</th>\n",
       "      <th>Salary</th>\n",
       "    </tr>\n",
       "  </thead>\n",
       "  <tbody>\n",
       "    <tr>\n",
       "      <th>0</th>\n",
       "      <td>1.1</td>\n",
       "      <td>10000</td>\n",
       "    </tr>\n",
       "    <tr>\n",
       "      <th>1</th>\n",
       "      <td>1.3</td>\n",
       "      <td>10500</td>\n",
       "    </tr>\n",
       "    <tr>\n",
       "      <th>2</th>\n",
       "      <td>1.5</td>\n",
       "      <td>11000</td>\n",
       "    </tr>\n",
       "    <tr>\n",
       "      <th>3</th>\n",
       "      <td>2.0</td>\n",
       "      <td>11500</td>\n",
       "    </tr>\n",
       "    <tr>\n",
       "      <th>4</th>\n",
       "      <td>2.2</td>\n",
       "      <td>12000</td>\n",
       "    </tr>\n",
       "  </tbody>\n",
       "</table>\n",
       "</div>"
      ],
      "text/plain": [
       "   YearsExperience  Salary\n",
       "0              1.1   10000\n",
       "1              1.3   10500\n",
       "2              1.5   11000\n",
       "3              2.0   11500\n",
       "4              2.2   12000"
      ]
     },
     "execution_count": 6,
     "metadata": {},
     "output_type": "execute_result"
    }
   ],
   "source": [
    "df_salary.head()"
   ]
  },
  {
   "cell_type": "code",
   "execution_count": 7,
   "id": "b43ac78c",
   "metadata": {
    "ExecuteTime": {
     "end_time": "2022-08-25T15:06:18.509430Z",
     "start_time": "2022-08-25T15:06:18.495307Z"
    }
   },
   "outputs": [
    {
     "data": {
      "text/plain": [
       "YearsExperience    84\n",
       "Salary             81\n",
       "dtype: int64"
      ]
     },
     "execution_count": 7,
     "metadata": {},
     "output_type": "execute_result"
    }
   ],
   "source": [
    "df_salary.nunique()"
   ]
  },
  {
   "cell_type": "markdown",
   "id": "ca10b3fe",
   "metadata": {},
   "source": [
    "## Data Summary"
   ]
  },
  {
   "cell_type": "code",
   "execution_count": 8,
   "id": "39c11f03",
   "metadata": {
    "ExecuteTime": {
     "end_time": "2022-08-25T15:06:18.539813Z",
     "start_time": "2022-08-25T15:06:18.510471Z"
    }
   },
   "outputs": [
    {
     "data": {
      "text/html": [
       "<div>\n",
       "<style scoped>\n",
       "    .dataframe tbody tr th:only-of-type {\n",
       "        vertical-align: middle;\n",
       "    }\n",
       "\n",
       "    .dataframe tbody tr th {\n",
       "        vertical-align: top;\n",
       "    }\n",
       "\n",
       "    .dataframe thead th {\n",
       "        text-align: right;\n",
       "    }\n",
       "</style>\n",
       "<table border=\"1\" class=\"dataframe\">\n",
       "  <thead>\n",
       "    <tr style=\"text-align: right;\">\n",
       "      <th></th>\n",
       "      <th>YearsExperience</th>\n",
       "      <th>Salary</th>\n",
       "    </tr>\n",
       "  </thead>\n",
       "  <tbody>\n",
       "    <tr>\n",
       "      <th>dtype</th>\n",
       "      <td>float64</td>\n",
       "      <td>int64</td>\n",
       "    </tr>\n",
       "    <tr>\n",
       "      <th>cardinality</th>\n",
       "      <td>84</td>\n",
       "      <td>81</td>\n",
       "    </tr>\n",
       "    <tr>\n",
       "      <th>n_tot</th>\n",
       "      <td>86</td>\n",
       "      <td>86</td>\n",
       "    </tr>\n",
       "    <tr>\n",
       "      <th>n</th>\n",
       "      <td>86</td>\n",
       "      <td>86</td>\n",
       "    </tr>\n",
       "    <tr>\n",
       "      <th>nmiss</th>\n",
       "      <td>0</td>\n",
       "      <td>0</td>\n",
       "    </tr>\n",
       "    <tr>\n",
       "      <th>perc_miss</th>\n",
       "      <td>0.0</td>\n",
       "      <td>0.0</td>\n",
       "    </tr>\n",
       "    <tr>\n",
       "      <th>sum</th>\n",
       "      <td>1470.266667</td>\n",
       "      <td>9011950</td>\n",
       "    </tr>\n",
       "    <tr>\n",
       "      <th>mean</th>\n",
       "      <td>17.096124</td>\n",
       "      <td>104790.116279</td>\n",
       "    </tr>\n",
       "    <tr>\n",
       "      <th>std</th>\n",
       "      <td>10.623181</td>\n",
       "      <td>57680.123097</td>\n",
       "    </tr>\n",
       "    <tr>\n",
       "      <th>var</th>\n",
       "      <td>112.851972</td>\n",
       "      <td>3326996600.503967</td>\n",
       "    </tr>\n",
       "    <tr>\n",
       "      <th>lc_iqr</th>\n",
       "      <td>-21.08125</td>\n",
       "      <td>-66197.25</td>\n",
       "    </tr>\n",
       "    <tr>\n",
       "      <th>uc_iqr</th>\n",
       "      <td>54.602083</td>\n",
       "      <td>284956.75</td>\n",
       "    </tr>\n",
       "    <tr>\n",
       "      <th>min</th>\n",
       "      <td>1.1</td>\n",
       "      <td>10000</td>\n",
       "    </tr>\n",
       "    <tr>\n",
       "      <th>p1</th>\n",
       "      <td>1.27</td>\n",
       "      <td>10425.0</td>\n",
       "    </tr>\n",
       "    <tr>\n",
       "      <th>p5</th>\n",
       "      <td>2.375</td>\n",
       "      <td>12125.0</td>\n",
       "    </tr>\n",
       "    <tr>\n",
       "      <th>p10</th>\n",
       "      <td>3.45</td>\n",
       "      <td>14250.0</td>\n",
       "    </tr>\n",
       "    <tr>\n",
       "      <th>p25</th>\n",
       "      <td>7.3</td>\n",
       "      <td>65485.5</td>\n",
       "    </tr>\n",
       "    <tr>\n",
       "      <th>p50</th>\n",
       "      <td>16.658333</td>\n",
       "      <td>106694.0</td>\n",
       "    </tr>\n",
       "    <tr>\n",
       "      <th>p75</th>\n",
       "      <td>26.220833</td>\n",
       "      <td>153274.0</td>\n",
       "    </tr>\n",
       "    <tr>\n",
       "      <th>p90</th>\n",
       "      <td>31.958333</td>\n",
       "      <td>181222.0</td>\n",
       "    </tr>\n",
       "    <tr>\n",
       "      <th>p95</th>\n",
       "      <td>33.870833</td>\n",
       "      <td>190538.0</td>\n",
       "    </tr>\n",
       "    <tr>\n",
       "      <th>p99</th>\n",
       "      <td>35.400833</td>\n",
       "      <td>197990.8</td>\n",
       "    </tr>\n",
       "    <tr>\n",
       "      <th>max</th>\n",
       "      <td>35.783333</td>\n",
       "      <td>199854</td>\n",
       "    </tr>\n",
       "  </tbody>\n",
       "</table>\n",
       "</div>"
      ],
      "text/plain": [
       "            YearsExperience             Salary\n",
       "dtype               float64              int64\n",
       "cardinality              84                 81\n",
       "n_tot                    86                 86\n",
       "n                        86                 86\n",
       "nmiss                     0                  0\n",
       "perc_miss               0.0                0.0\n",
       "sum             1470.266667            9011950\n",
       "mean              17.096124      104790.116279\n",
       "std               10.623181       57680.123097\n",
       "var              112.851972  3326996600.503967\n",
       "lc_iqr            -21.08125          -66197.25\n",
       "uc_iqr            54.602083          284956.75\n",
       "min                     1.1              10000\n",
       "p1                     1.27            10425.0\n",
       "p5                    2.375            12125.0\n",
       "p10                    3.45            14250.0\n",
       "p25                     7.3            65485.5\n",
       "p50               16.658333           106694.0\n",
       "p75               26.220833           153274.0\n",
       "p90               31.958333           181222.0\n",
       "p95               33.870833           190538.0\n",
       "p99               35.400833           197990.8\n",
       "max               35.783333             199854"
      ]
     },
     "execution_count": 8,
     "metadata": {},
     "output_type": "execute_result"
    }
   ],
   "source": [
    "df_salary.apply(conti_var_summary)"
   ]
  },
  {
   "cell_type": "code",
   "execution_count": 9,
   "id": "3d5cf911",
   "metadata": {
    "ExecuteTime": {
     "end_time": "2022-08-25T15:06:18.554949Z",
     "start_time": "2022-08-25T15:06:18.541030Z"
    }
   },
   "outputs": [
    {
     "data": {
      "text/plain": [
       "(86, 2)"
      ]
     },
     "execution_count": 9,
     "metadata": {},
     "output_type": "execute_result"
    }
   ],
   "source": [
    "df_salary.shape"
   ]
  },
  {
   "cell_type": "markdown",
   "id": "7e34b482",
   "metadata": {},
   "source": [
    "## Checking Correlation"
   ]
  },
  {
   "cell_type": "code",
   "execution_count": 10,
   "id": "7edc153a",
   "metadata": {
    "ExecuteTime": {
     "end_time": "2022-08-25T15:06:18.678394Z",
     "start_time": "2022-08-25T15:06:18.555909Z"
    }
   },
   "outputs": [
    {
     "data": {
      "image/png": "[encoded data removed]",
      "text/plain": [
       "<Figure size 360x360 with 2 Axes>"
      ]
     },
     "metadata": {},
     "output_type": "display_data"
    }
   ],
   "source": [
    "# Using Pearson Correlation\n",
    "plt.figure(figsize=(5, 5))\n",
    "cor = df_salary.corr()\n",
    "sns.heatmap(cor, annot=True, cmap=plt.cm.Blues)\n",
    "plt.show()"
   ]
  },
  {
   "cell_type": "markdown",
   "id": "c0fba63c",
   "metadata": {},
   "source": [
    "## Plots"
   ]
  },
  {
   "cell_type": "code",
   "execution_count": 11,
   "id": "857c0e00",
   "metadata": {
    "ExecuteTime": {
     "end_time": "2022-08-25T15:06:19.050798Z",
     "start_time": "2022-08-25T15:06:18.693618Z"
    },
    "scrolled": false
   },
   "outputs": [
    {
     "data": {
      "image/png": "[encoded data removed]",
      "text/plain": [
       "<Figure size 576x576 with 5 Axes>"
      ]
     },
     "metadata": {},
     "output_type": "display_data"
    }
   ],
   "source": [
    "# Using Pairplot to check histograms and relation between two variables\n",
    "sns.pairplot(df_salary, diag_kind='hist', corner=True, height=4, aspect=1)\n",
    "plt.show()"
   ]
  },
  {
   "cell_type": "code",
   "execution_count": 12,
   "id": "079a82db",
   "metadata": {
    "ExecuteTime": {
     "end_time": "2022-08-25T15:06:19.387702Z",
     "start_time": "2022-08-25T15:06:19.051843Z"
    }
   },
   "outputs": [
    {
     "name": "stdout",
     "output_type": "stream",
     "text": [
      "-0.12710762396898892\n"
     ]
    },
    {
     "data": {
      "image/png": "[encoded data removed]",
      "text/plain": [
       "<Figure size 432x288 with 1 Axes>"
      ]
     },
     "metadata": {},
     "output_type": "display_data"
    }
   ],
   "source": [
    "# Checking the Skewness of the Salary Column\n",
    "print(df_salary.Salary.skew())\n",
    "sns.distplot(df_salary.Salary)\n",
    "plt.show()"
   ]
  },
  {
   "cell_type": "markdown",
   "id": "0831146d",
   "metadata": {},
   "source": [
    "The distribution is close to a normal distribution. So, no transformation is required."
   ]
  },
  {
   "cell_type": "markdown",
   "id": "cc7340e0",
   "metadata": {},
   "source": [
    "## Train-Test Split"
   ]
  },
  {
   "cell_type": "code",
   "execution_count": 13,
   "id": "1fdd997b",
   "metadata": {
    "ExecuteTime": {
     "end_time": "2022-08-25T15:06:19.403840Z",
     "start_time": "2022-08-25T15:06:19.391814Z"
    }
   },
   "outputs": [],
   "source": [
    "X_train, X_test, y_train, y_test = train_test_split(\n",
    "    df_salary.iloc[:, :-1].values,\n",
    "    df_salary.iloc[:, 1].values,\n",
    "    test_size=0.3,\n",
    "    random_state=2)"
   ]
  },
  {
   "cell_type": "markdown",
   "id": "b426ec52",
   "metadata": {},
   "source": [
    "## Building the model"
   ]
  },
  {
   "cell_type": "code",
   "execution_count": 14,
   "id": "2dd889be",
   "metadata": {
    "ExecuteTime": {
     "end_time": "2022-08-25T15:06:19.419380Z",
     "start_time": "2022-08-25T15:06:19.405342Z"
    }
   },
   "outputs": [
    {
     "data": {
      "text/plain": [
       "LinearRegression()"
      ]
     },
     "execution_count": 14,
     "metadata": {},
     "output_type": "execute_result"
    }
   ],
   "source": [
    "lrm = LinearRegression()\n",
    "lrm.fit(X_train, y_train)"
   ]
  },
  {
   "cell_type": "code",
   "execution_count": 15,
   "id": "1e71f729",
   "metadata": {
    "ExecuteTime": {
     "end_time": "2022-08-25T15:06:19.435323Z",
     "start_time": "2022-08-25T15:06:19.420888Z"
    }
   },
   "outputs": [
    {
     "name": "stdout",
     "output_type": "stream",
     "text": [
      "b0 = 11593.106509913108, b1 = 5435.5261671068765\n"
     ]
    }
   ],
   "source": [
    "# Getting the Intersept and the Coefficient\n",
    "print('b0 = ', lrm.intercept_, ', b1 = ', lrm.coef_[0], sep='')"
   ]
  },
  {
   "cell_type": "markdown",
   "id": "89974c27",
   "metadata": {
    "ExecuteTime": {
     "end_time": "2022-08-25T12:38:08.117992Z",
     "start_time": "2022-08-25T12:38:08.105158Z"
    }
   },
   "source": [
    "## Predicting the output on train and test"
   ]
  },
  {
   "cell_type": "code",
   "execution_count": 16,
   "id": "a82065a5",
   "metadata": {
    "ExecuteTime": {
     "end_time": "2022-08-25T15:06:19.450539Z",
     "start_time": "2022-08-25T15:06:19.436406Z"
    }
   },
   "outputs": [],
   "source": [
    "y_train_predicted = lrm.predict(X_train)\n",
    "y_test_predicted = lrm.predict(X_test)"
   ]
  },
  {
   "cell_type": "markdown",
   "id": "41a5ff2e",
   "metadata": {},
   "source": [
    "## Model Evaluation"
   ]
  },
  {
   "cell_type": "code",
   "execution_count": 17,
   "id": "6c139fee",
   "metadata": {
    "ExecuteTime": {
     "end_time": "2022-08-25T15:06:19.466133Z",
     "start_time": "2022-08-25T15:06:19.450907Z"
    }
   },
   "outputs": [],
   "source": [
    "def eval_fun(y_train, y_test, y_train_predicted, y_test_predicted):\n",
    "    '''\n",
    "    This function calculates and saves all the evaluation parameters viz. \n",
    "    MAPE, MSE, RMSE, MAE, R2 in a dataframe.\n",
    "    '''\n",
    "\n",
    "    # MAPE = Mean Absolute Percentage Error\n",
    "    mape_train = mean_absolute_percentage_error(y_train, y_train_predicted)\n",
    "    mape_test = mean_absolute_percentage_error(y_test, y_test_predicted)\n",
    "    mape = [mape_train, mape_test]\n",
    "\n",
    "    # MSE - Mean squared Error\n",
    "    mse_train = mean_squared_error(y_train, y_train_predicted)\n",
    "    mse_test = mean_squared_error(y_test, y_test_predicted)\n",
    "    mse = [mse_train, mse_test]\n",
    "    rmse = [np.sqrt(mse_train), np.sqrt(mse_test)]\n",
    "    mean = [y_train.mean(), y_test.mean()]\n",
    "\n",
    "    # MAE - Mean Absolute Error\n",
    "    mae_train = mean_absolute_error(y_train, y_train_predicted)\n",
    "    mae_test = mean_absolute_error(y_test, y_test_predicted)\n",
    "    mae = [mae_train, mae_test]\n",
    "\n",
    "    # R² Value\n",
    "    r2_train = r2_score(y_train, y_train_predicted)\n",
    "    r2_test = r2_score(y_test, y_test_predicted)\n",
    "    r2 = [r2_train, r2_test]\n",
    "\n",
    "    pd.options.display.float_format = '{:.2f}'.format\n",
    "    df_eval = pd.DataFrame(\n",
    "        list(zip(mape, mse, rmse, mean, mae, r2)),\n",
    "        columns=['MAPE', 'MSE', 'RMSE', 'mean', 'MAE', 'R2'],\n",
    "        index=['Train', 'Test']).T\n",
    "    return df_eval"
   ]
  },
  {
   "cell_type": "code",
   "execution_count": 18,
   "id": "adba2e18",
   "metadata": {
    "ExecuteTime": {
     "end_time": "2022-08-25T15:06:19.481280Z",
     "start_time": "2022-08-25T15:06:19.467192Z"
    }
   },
   "outputs": [
    {
     "data": {
      "text/html": [
       "<div>\n",
       "<style scoped>\n",
       "    .dataframe tbody tr th:only-of-type {\n",
       "        vertical-align: middle;\n",
       "    }\n",
       "\n",
       "    .dataframe tbody tr th {\n",
       "        vertical-align: top;\n",
       "    }\n",
       "\n",
       "    .dataframe thead th {\n",
       "        text-align: right;\n",
       "    }\n",
       "</style>\n",
       "<table border=\"1\" class=\"dataframe\">\n",
       "  <thead>\n",
       "    <tr style=\"text-align: right;\">\n",
       "      <th></th>\n",
       "      <th>Train</th>\n",
       "      <th>Test</th>\n",
       "    </tr>\n",
       "  </thead>\n",
       "  <tbody>\n",
       "    <tr>\n",
       "      <th>MAPE</th>\n",
       "      <td>0.20</td>\n",
       "      <td>0.14</td>\n",
       "    </tr>\n",
       "    <tr>\n",
       "      <th>MSE</th>\n",
       "      <td>56936899.75</td>\n",
       "      <td>43712136.57</td>\n",
       "    </tr>\n",
       "    <tr>\n",
       "      <th>RMSE</th>\n",
       "      <td>7545.65</td>\n",
       "      <td>6611.52</td>\n",
       "    </tr>\n",
       "    <tr>\n",
       "      <th>mean</th>\n",
       "      <td>105274.40</td>\n",
       "      <td>103672.54</td>\n",
       "    </tr>\n",
       "    <tr>\n",
       "      <th>MAE</th>\n",
       "      <td>6161.91</td>\n",
       "      <td>5416.27</td>\n",
       "    </tr>\n",
       "    <tr>\n",
       "      <th>R2</th>\n",
       "      <td>0.98</td>\n",
       "      <td>0.99</td>\n",
       "    </tr>\n",
       "  </tbody>\n",
       "</table>\n",
       "</div>"
      ],
      "text/plain": [
       "           Train        Test\n",
       "MAPE        0.20        0.14\n",
       "MSE  56936899.75 43712136.57\n",
       "RMSE     7545.65     6611.52\n",
       "mean   105274.40   103672.54\n",
       "MAE      6161.91     5416.27\n",
       "R2          0.98        0.99"
      ]
     },
     "execution_count": 18,
     "metadata": {},
     "output_type": "execute_result"
    }
   ],
   "source": [
    "eval_fun(y_train, y_test, y_train_predicted, y_test_predicted)"
   ]
  },
  {
   "cell_type": "code",
   "execution_count": 19,
   "id": "5846aba3",
   "metadata": {
    "ExecuteTime": {
     "end_time": "2022-08-25T15:06:19.649377Z",
     "start_time": "2022-08-25T15:06:19.482347Z"
    }
   },
   "outputs": [
    {
     "data": {
      "image/png": "[encoded data removed]",
      "text/plain": [
       "<Figure size 1008x504 with 2 Axes>"
      ]
     },
     "metadata": {},
     "output_type": "display_data"
    }
   ],
   "source": [
    "params = {'figure.figsize': (14, 7), 'axes.labelsize': 16}\n",
    "plt.rcParams.update(params)\n",
    "fig, axs = plt.subplots(1, 2, sharey=True)\n",
    "plt.subplots_adjust(wspace=0.015, hspace=0)\n",
    "# Train\n",
    "axs[0].scatter(X_train, y_train, color='blue')\n",
    "axs[0].plot(X_train, y_train_predicted, color='g')\n",
    "axs[0].set_title('Train Data', fontdict={'fontsize': 18, 'fontweight': 'bold'})\n",
    "axs[0].grid()\n",
    "axs[0].set_ylabel('Salary')\n",
    "axs[0].set_xlabel('Years of Experience')\n",
    "axs[0].text(0.08,\n",
    "            0.95,\n",
    "            str(X_train.size),\n",
    "            horizontalalignment='center',\n",
    "            verticalalignment='center',\n",
    "            transform=axs[0].transAxes,\n",
    "            fontsize=20,\n",
    "            fontweight='bold',\n",
    "            color='b')\n",
    "# Test\n",
    "axs[1].scatter(X_test, y_test, color='blue')\n",
    "axs[1].plot(X_test, y_test_predicted, color='r')\n",
    "axs[1].set_title('Test Data', fontdict={'fontsize': 18, 'fontweight': 'bold'})\n",
    "axs[1].grid()\n",
    "axs[1].set_xlabel('Years of Experience')\n",
    "axs[1].text(0.08,\n",
    "            0.95,\n",
    "            str(X_test.size),\n",
    "            horizontalalignment='center',\n",
    "            verticalalignment='center',\n",
    "            transform=axs[1].transAxes,\n",
    "            fontsize=20,\n",
    "            fontweight='bold',\n",
    "            color='b')\n",
    "\n",
    "plt.show()"
   ]
  },
  {
   "cell_type": "markdown",
   "id": "67548789",
   "metadata": {},
   "source": [
    "## Saving the model"
   ]
  },
  {
   "cell_type": "code",
   "execution_count": 20,
   "id": "5c74bb80",
   "metadata": {
    "ExecuteTime": {
     "end_time": "2022-08-25T15:06:19.665402Z",
     "start_time": "2022-08-25T15:06:19.650459Z"
    }
   },
   "outputs": [],
   "source": [
    "filename = 'LinearRegression_model_Salary_Prediction.pkl'\n",
    "pickle.dump(lrm, open(filename, 'wb'))"
   ]
  },
  {
   "cell_type": "markdown",
   "id": "09e895b2",
   "metadata": {},
   "source": [
    "## Deploying model to test with new data"
   ]
  },
  {
   "cell_type": "code",
   "execution_count": 21,
   "id": "0669a0a9",
   "metadata": {
    "ExecuteTime": {
     "end_time": "2022-08-25T15:06:19.680554Z",
     "start_time": "2022-08-25T15:06:19.666440Z"
    }
   },
   "outputs": [
    {
     "data": {
      "text/plain": [
       "array([ 38770.73734545,  65948.36818098, 201836.52235865, 337724.67653633])"
      ]
     },
     "execution_count": 21,
     "metadata": {},
     "output_type": "execute_result"
    }
   ],
   "source": [
    "# Creating New Data\n",
    "x_new = np.array([5, 10, 35, 60]).reshape(-1, 1)\n",
    "\n",
    "# Retriving Model\n",
    "retrived_model = pickle.load(open(filename, 'rb'))\n",
    "\n",
    "# Predicting for New Data\n",
    "retrived_model.predict(x_new)"
   ]
  },
  {
   "cell_type": "code",
   "execution_count": 22,
   "id": "aebe66a8",
   "metadata": {
    "ExecuteTime": {
     "end_time": "2022-08-25T15:06:19.695559Z",
     "start_time": "2022-08-25T15:06:19.681832Z"
    }
   },
   "outputs": [
    {
     "data": {
      "text/plain": [
       "array([ 38770.73734545,  65948.36818098, 201836.52235865, 337724.67653633])"
      ]
     },
     "execution_count": 22,
     "metadata": {},
     "output_type": "execute_result"
    }
   ],
   "source": [
    "# Validation\n",
    "lrm.predict(x_new)"
   ]
  },
  {
   "cell_type": "code",
   "execution_count": null,
   "id": "ac44befc",
   "metadata": {},
   "outputs": [],
   "source": []
  }
 ],
 "metadata": {
  "kernelspec": {
   "display_name": "Python 3 (ipykernel)",
   "language": "python",
   "name": "python3"
  },
  "language_info": {
   "codemirror_mode": {
    "name": "ipython",
    "version": 3
   },
   "file_extension": ".py",
   "mimetype": "text/x-python",
   "name": "python",
   "nbconvert_exporter": "python",
   "pygments_lexer": "ipython3",
   "version": "3.9.12"
  },
  "latex_envs": {
   "LaTeX_envs_menu_present": true,
   "autoclose": false,
   "autocomplete": true,
   "bibliofile": "biblio.bib",
   "cite_by": "apalike",
   "current_citInitial": 1,
   "eqLabelWithNumbers": true,
   "eqNumInitial": 1,
   "hotkeys": {
    "equation": "Ctrl-E",
    "itemize": "Ctrl-I"
   },
   "labels_anchors": false,
   "latex_user_defs": false,
   "report_style_numbering": false,
   "user_envs_cfg": false
  },
  "toc": {
   "base_numbering": 1,
   "nav_menu": {},
   "number_sections": true,
   "sideBar": true,
   "skip_h1_title": false,
   "title_cell": "Table of Contents",
   "title_sidebar": "Contents",
   "toc_cell": false,
   "toc_position": {},
   "toc_section_display": true,
   "toc_window_display": false
  },
  "varInspector": {
   "cols": {
    "lenName": 16,
    "lenType": 16,
    "lenVar": 40
   },
   "kernels_config": {
    "python": {
     "delete_cmd_postfix": "",
     "delete_cmd_prefix": "del ",
     "library": "var_list.py",
     "varRefreshCmd": "print(var_dic_list())"
    },
    "r": {
     "delete_cmd_postfix": ") ",
     "delete_cmd_prefix": "rm(",
     "library": "var_list.r",
     "varRefreshCmd": "cat(var_dic_list()) "
    }
   },
   "position": {
    "height": "442.85px",
    "left": "1550px",
    "right": "20px",
    "top": "120px",
    "width": "350px"
   },
   "types_to_exclude": [
    "module",
    "function",
    "builtin_function_or_method",
    "instance",
    "_Feature"
   ],
   "window_display": true
  }
 },
 "nbformat": 4,
 "nbformat_minor": 5
}
